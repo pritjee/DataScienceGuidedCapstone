{
 "cells": [
  {
   "cell_type": "markdown",
   "metadata": {},
   "source": [
    "This exercise will require you to pull some data from the Qunadl API. Qaundl is currently the most widely used aggregator of financial market data."
   ]
  },
  {
   "cell_type": "markdown",
   "metadata": {},
   "source": [
    "As a first step, you will need to register a free account on the http://www.quandl.com website."
   ]
  },
  {
   "cell_type": "markdown",
   "metadata": {},
   "source": [
    "After you register, you will be provided with a unique API key, that you should store:"
   ]
  },
  {
   "cell_type": "code",
   "execution_count": 1,
   "metadata": {},
   "outputs": [],
   "source": [
    "# Store the API key as a string - according to PEP8, constants are always named in all upper case\n",
    "API_KEY = 's9SrCKr4-v9ow-TkpsnH'"
   ]
  },
  {
   "cell_type": "markdown",
   "metadata": {},
   "source": [
    "Qaundl has a large number of data sources, but, unfortunately, most of them require a Premium subscription. Still, there are also a good number of free datasets."
   ]
  },
  {
   "cell_type": "markdown",
   "metadata": {},
   "source": [
    "For this mini project, we will focus on equities data from the Frankfurt Stock Exhange (FSE), which is available for free. We'll try and analyze the stock prices of a company called Carl Zeiss Meditec, which manufactures tools for eye examinations, as well as medical lasers for laser eye surgery: https://www.zeiss.com/meditec/int/home.html. The company is listed under the stock ticker AFX_X."
   ]
  },
  {
   "cell_type": "markdown",
   "metadata": {},
   "source": [
    "You can find the detailed Quandl API instructions here: https://docs.quandl.com/docs/time-series"
   ]
  },
  {
   "cell_type": "markdown",
   "metadata": {},
   "source": [
    "While there is a dedicated Python package for connecting to the Quandl API, we would prefer that you use the *requests* package, which can be easily downloaded using *pip* or *conda*. You can find the documentation for the package here: http://docs.python-requests.org/en/master/ "
   ]
  },
  {
   "cell_type": "markdown",
   "metadata": {},
   "source": [
    "Finally, apart from the *requests* package, you are encouraged to not use any third party Python packages, such as *pandas*, and instead focus on what's available in the Python Standard Library (the *collections* module might come in handy: https://pymotw.com/3/collections/ ).\n",
    "Also, since you won't have access to DataFrames, you are encouraged to us Python's native data structures - preferably dictionaries, though some questions can also be answered using lists.\n",
    "You can read more on these data structures here: https://docs.python.org/3/tutorial/datastructures.html"
   ]
  },
  {
   "cell_type": "markdown",
   "metadata": {},
   "source": [
    "Keep in mind that the JSON responses you will be getting from the API map almost one-to-one to Python's dictionaries. Unfortunately, they can be very nested, so make sure you read up on indexing dictionaries in the documentation provided above."
   ]
  },
  {
   "cell_type": "code",
   "execution_count": 2,
   "metadata": {},
   "outputs": [],
   "source": [
    "# First, import the relevant modules\n",
    "import json\n",
    "import quandl\n",
    "import requests\n"
   ]
  },
  {
   "cell_type": "code",
   "execution_count": 3,
   "metadata": {},
   "outputs": [
    {
     "data": {
      "text/html": [
       "<div>\n",
       "<style scoped>\n",
       "    .dataframe tbody tr th:only-of-type {\n",
       "        vertical-align: middle;\n",
       "    }\n",
       "\n",
       "    .dataframe tbody tr th {\n",
       "        vertical-align: top;\n",
       "    }\n",
       "\n",
       "    .dataframe thead th {\n",
       "        text-align: right;\n",
       "    }\n",
       "</style>\n",
       "<table border=\"1\" class=\"dataframe\">\n",
       "  <thead>\n",
       "    <tr style=\"text-align: right;\">\n",
       "      <th></th>\n",
       "      <th>Open</th>\n",
       "      <th>High</th>\n",
       "      <th>Low</th>\n",
       "      <th>Close</th>\n",
       "      <th>Change</th>\n",
       "      <th>Traded Volume</th>\n",
       "      <th>Turnover</th>\n",
       "      <th>Last Price of the Day</th>\n",
       "      <th>Daily Traded Units</th>\n",
       "      <th>Daily Turnover</th>\n",
       "    </tr>\n",
       "    <tr>\n",
       "      <th>Date</th>\n",
       "      <th></th>\n",
       "      <th></th>\n",
       "      <th></th>\n",
       "      <th></th>\n",
       "      <th></th>\n",
       "      <th></th>\n",
       "      <th></th>\n",
       "      <th></th>\n",
       "      <th></th>\n",
       "      <th></th>\n",
       "    </tr>\n",
       "  </thead>\n",
       "  <tbody>\n",
       "    <tr>\n",
       "      <th>2017-01-02</th>\n",
       "      <td>34.99</td>\n",
       "      <td>35.94</td>\n",
       "      <td>34.99</td>\n",
       "      <td>35.80</td>\n",
       "      <td>NaN</td>\n",
       "      <td>44700.0</td>\n",
       "      <td>1590561.0</td>\n",
       "      <td>None</td>\n",
       "      <td>None</td>\n",
       "      <td>None</td>\n",
       "    </tr>\n",
       "    <tr>\n",
       "      <th>2017-01-03</th>\n",
       "      <td>35.90</td>\n",
       "      <td>35.93</td>\n",
       "      <td>35.34</td>\n",
       "      <td>35.48</td>\n",
       "      <td>NaN</td>\n",
       "      <td>70618.0</td>\n",
       "      <td>2515473.0</td>\n",
       "      <td>None</td>\n",
       "      <td>None</td>\n",
       "      <td>None</td>\n",
       "    </tr>\n",
       "    <tr>\n",
       "      <th>2017-01-04</th>\n",
       "      <td>35.48</td>\n",
       "      <td>35.51</td>\n",
       "      <td>34.75</td>\n",
       "      <td>35.19</td>\n",
       "      <td>NaN</td>\n",
       "      <td>54408.0</td>\n",
       "      <td>1906810.0</td>\n",
       "      <td>None</td>\n",
       "      <td>None</td>\n",
       "      <td>None</td>\n",
       "    </tr>\n",
       "    <tr>\n",
       "      <th>2017-01-05</th>\n",
       "      <td>35.02</td>\n",
       "      <td>35.20</td>\n",
       "      <td>34.73</td>\n",
       "      <td>35.06</td>\n",
       "      <td>NaN</td>\n",
       "      <td>48412.0</td>\n",
       "      <td>1692326.0</td>\n",
       "      <td>None</td>\n",
       "      <td>None</td>\n",
       "      <td>None</td>\n",
       "    </tr>\n",
       "    <tr>\n",
       "      <th>2017-01-06</th>\n",
       "      <td>34.91</td>\n",
       "      <td>35.21</td>\n",
       "      <td>34.91</td>\n",
       "      <td>35.04</td>\n",
       "      <td>NaN</td>\n",
       "      <td>27507.0</td>\n",
       "      <td>964046.0</td>\n",
       "      <td>None</td>\n",
       "      <td>None</td>\n",
       "      <td>None</td>\n",
       "    </tr>\n",
       "    <tr>\n",
       "      <th>...</th>\n",
       "      <td>...</td>\n",
       "      <td>...</td>\n",
       "      <td>...</td>\n",
       "      <td>...</td>\n",
       "      <td>...</td>\n",
       "      <td>...</td>\n",
       "      <td>...</td>\n",
       "      <td>...</td>\n",
       "      <td>...</td>\n",
       "      <td>...</td>\n",
       "    </tr>\n",
       "    <tr>\n",
       "      <th>2017-11-27</th>\n",
       "      <td>49.13</td>\n",
       "      <td>49.73</td>\n",
       "      <td>48.96</td>\n",
       "      <td>49.20</td>\n",
       "      <td>NaN</td>\n",
       "      <td>102180.0</td>\n",
       "      <td>5055762.0</td>\n",
       "      <td>None</td>\n",
       "      <td>None</td>\n",
       "      <td>None</td>\n",
       "    </tr>\n",
       "    <tr>\n",
       "      <th>2017-11-28</th>\n",
       "      <td>49.09</td>\n",
       "      <td>49.89</td>\n",
       "      <td>49.03</td>\n",
       "      <td>49.25</td>\n",
       "      <td>NaN</td>\n",
       "      <td>42669.0</td>\n",
       "      <td>2107358.0</td>\n",
       "      <td>None</td>\n",
       "      <td>None</td>\n",
       "      <td>None</td>\n",
       "    </tr>\n",
       "    <tr>\n",
       "      <th>2017-11-29</th>\n",
       "      <td>49.64</td>\n",
       "      <td>49.64</td>\n",
       "      <td>48.70</td>\n",
       "      <td>48.75</td>\n",
       "      <td>NaN</td>\n",
       "      <td>67342.0</td>\n",
       "      <td>3292223.0</td>\n",
       "      <td>None</td>\n",
       "      <td>None</td>\n",
       "      <td>None</td>\n",
       "    </tr>\n",
       "    <tr>\n",
       "      <th>2017-11-30</th>\n",
       "      <td>48.64</td>\n",
       "      <td>49.84</td>\n",
       "      <td>48.28</td>\n",
       "      <td>49.70</td>\n",
       "      <td>NaN</td>\n",
       "      <td>123019.0</td>\n",
       "      <td>6085171.0</td>\n",
       "      <td>None</td>\n",
       "      <td>None</td>\n",
       "      <td>None</td>\n",
       "    </tr>\n",
       "    <tr>\n",
       "      <th>2017-12-01</th>\n",
       "      <td>49.52</td>\n",
       "      <td>50.49</td>\n",
       "      <td>49.17</td>\n",
       "      <td>49.86</td>\n",
       "      <td>NaN</td>\n",
       "      <td>101733.0</td>\n",
       "      <td>5065932.0</td>\n",
       "      <td>None</td>\n",
       "      <td>None</td>\n",
       "      <td>None</td>\n",
       "    </tr>\n",
       "  </tbody>\n",
       "</table>\n",
       "<p>237 rows × 10 columns</p>\n",
       "</div>"
      ],
      "text/plain": [
       "             Open   High    Low  Close  Change  Traded Volume   Turnover  \\\n",
       "Date                                                                       \n",
       "2017-01-02  34.99  35.94  34.99  35.80     NaN        44700.0  1590561.0   \n",
       "2017-01-03  35.90  35.93  35.34  35.48     NaN        70618.0  2515473.0   \n",
       "2017-01-04  35.48  35.51  34.75  35.19     NaN        54408.0  1906810.0   \n",
       "2017-01-05  35.02  35.20  34.73  35.06     NaN        48412.0  1692326.0   \n",
       "2017-01-06  34.91  35.21  34.91  35.04     NaN        27507.0   964046.0   \n",
       "...           ...    ...    ...    ...     ...            ...        ...   \n",
       "2017-11-27  49.13  49.73  48.96  49.20     NaN       102180.0  5055762.0   \n",
       "2017-11-28  49.09  49.89  49.03  49.25     NaN        42669.0  2107358.0   \n",
       "2017-11-29  49.64  49.64  48.70  48.75     NaN        67342.0  3292223.0   \n",
       "2017-11-30  48.64  49.84  48.28  49.70     NaN       123019.0  6085171.0   \n",
       "2017-12-01  49.52  50.49  49.17  49.86     NaN       101733.0  5065932.0   \n",
       "\n",
       "           Last Price of the Day Daily Traded Units Daily Turnover  \n",
       "Date                                                                \n",
       "2017-01-02                  None               None           None  \n",
       "2017-01-03                  None               None           None  \n",
       "2017-01-04                  None               None           None  \n",
       "2017-01-05                  None               None           None  \n",
       "2017-01-06                  None               None           None  \n",
       "...                          ...                ...            ...  \n",
       "2017-11-27                  None               None           None  \n",
       "2017-11-28                  None               None           None  \n",
       "2017-11-29                  None               None           None  \n",
       "2017-11-30                  None               None           None  \n",
       "2017-12-01                  None               None           None  \n",
       "\n",
       "[237 rows x 10 columns]"
      ]
     },
     "execution_count": 3,
     "metadata": {},
     "output_type": "execute_result"
    }
   ],
   "source": [
    "# Now, call the Quandl API and pull out a small sample of the data (only one day) to get a glimpse\n",
    "# into the JSON structure that will be returned\n",
    "data=quandl.get(\"FSE/AFX_X\", authtoken=\"s9SrCKr4-v9ow-TkpsnH\", start_date=\"2017-01-01\", end_date=\"2017-12-01\")\n",
    "data\n",
    "    "
   ]
  },
  {
   "cell_type": "code",
   "execution_count": 4,
   "metadata": {},
   "outputs": [
    {
     "name": "stdout",
     "output_type": "stream",
     "text": [
      "Open: Date\n",
      "2017-01-02    34.99\n",
      "2017-01-03    35.90\n",
      "2017-01-04    35.48\n",
      "2017-01-05    35.02\n",
      "2017-01-06    34.91\n",
      "              ...  \n",
      "2017-11-27    49.13\n",
      "2017-11-28    49.09\n",
      "2017-11-29    49.64\n",
      "2017-11-30    48.64\n",
      "2017-12-01    49.52\n",
      "Name: Open, Length: 237, dtype: float64\n",
      "High: Date\n",
      "2017-01-02    35.94\n",
      "2017-01-03    35.93\n",
      "2017-01-04    35.51\n",
      "2017-01-05    35.20\n",
      "2017-01-06    35.21\n",
      "              ...  \n",
      "2017-11-27    49.73\n",
      "2017-11-28    49.89\n",
      "2017-11-29    49.64\n",
      "2017-11-30    49.84\n",
      "2017-12-01    50.49\n",
      "Name: High, Length: 237, dtype: float64\n",
      "Low: Date\n",
      "2017-01-02    34.99\n",
      "2017-01-03    35.34\n",
      "2017-01-04    34.75\n",
      "2017-01-05    34.73\n",
      "2017-01-06    34.91\n",
      "              ...  \n",
      "2017-11-27    48.96\n",
      "2017-11-28    49.03\n",
      "2017-11-29    48.70\n",
      "2017-11-30    48.28\n",
      "2017-12-01    49.17\n",
      "Name: Low, Length: 237, dtype: float64\n",
      "Close: Date\n",
      "2017-01-02    35.80\n",
      "2017-01-03    35.48\n",
      "2017-01-04    35.19\n",
      "2017-01-05    35.06\n",
      "2017-01-06    35.04\n",
      "              ...  \n",
      "2017-11-27    49.20\n",
      "2017-11-28    49.25\n",
      "2017-11-29    48.75\n",
      "2017-11-30    49.70\n",
      "2017-12-01    49.86\n",
      "Name: Close, Length: 237, dtype: float64\n",
      "Change: Date\n",
      "2017-01-02   NaN\n",
      "2017-01-03   NaN\n",
      "2017-01-04   NaN\n",
      "2017-01-05   NaN\n",
      "2017-01-06   NaN\n",
      "              ..\n",
      "2017-11-27   NaN\n",
      "2017-11-28   NaN\n",
      "2017-11-29   NaN\n",
      "2017-11-30   NaN\n",
      "2017-12-01   NaN\n",
      "Name: Change, Length: 237, dtype: float64\n",
      "Traded Volume: Date\n",
      "2017-01-02     44700.0\n",
      "2017-01-03     70618.0\n",
      "2017-01-04     54408.0\n",
      "2017-01-05     48412.0\n",
      "2017-01-06     27507.0\n",
      "                ...   \n",
      "2017-11-27    102180.0\n",
      "2017-11-28     42669.0\n",
      "2017-11-29     67342.0\n",
      "2017-11-30    123019.0\n",
      "2017-12-01    101733.0\n",
      "Name: Traded Volume, Length: 237, dtype: float64\n",
      "Turnover: Date\n",
      "2017-01-02    1590561.0\n",
      "2017-01-03    2515473.0\n",
      "2017-01-04    1906810.0\n",
      "2017-01-05    1692326.0\n",
      "2017-01-06     964046.0\n",
      "                ...    \n",
      "2017-11-27    5055762.0\n",
      "2017-11-28    2107358.0\n",
      "2017-11-29    3292223.0\n",
      "2017-11-30    6085171.0\n",
      "2017-12-01    5065932.0\n",
      "Name: Turnover, Length: 237, dtype: float64\n",
      "Last Price of the Day: Date\n",
      "2017-01-02    None\n",
      "2017-01-03    None\n",
      "2017-01-04    None\n",
      "2017-01-05    None\n",
      "2017-01-06    None\n",
      "              ... \n",
      "2017-11-27    None\n",
      "2017-11-28    None\n",
      "2017-11-29    None\n",
      "2017-11-30    None\n",
      "2017-12-01    None\n",
      "Name: Last Price of the Day, Length: 237, dtype: object\n",
      "Daily Traded Units: Date\n",
      "2017-01-02    None\n",
      "2017-01-03    None\n",
      "2017-01-04    None\n",
      "2017-01-05    None\n",
      "2017-01-06    None\n",
      "              ... \n",
      "2017-11-27    None\n",
      "2017-11-28    None\n",
      "2017-11-29    None\n",
      "2017-11-30    None\n",
      "2017-12-01    None\n",
      "Name: Daily Traded Units, Length: 237, dtype: object\n",
      "Daily Turnover: Date\n",
      "2017-01-02    None\n",
      "2017-01-03    None\n",
      "2017-01-04    None\n",
      "2017-01-05    None\n",
      "2017-01-06    None\n",
      "              ... \n",
      "2017-11-27    None\n",
      "2017-11-28    None\n",
      "2017-11-29    None\n",
      "2017-11-30    None\n",
      "2017-12-01    None\n",
      "Name: Daily Turnover, Length: 237, dtype: object\n"
     ]
    }
   ],
   "source": [
    "# Inspect the JSON structure of the object you created, and take note of how nested it is,\n",
    "# as well as the overall structure\n",
    "for key,value in data.items():\n",
    "    print(key + ':' , value)"
   ]
  },
  {
   "cell_type": "markdown",
   "metadata": {},
   "source": [
    "These are your tasks for this mini project:\n",
    "\n",
    "1. Collect data from the Franfurt Stock Exchange, for the ticker AFX_X, for the whole year 2017 (keep in mind that the date format is YYYY-MM-DD).\n",
    "2. Convert the returned JSON object into a Python dictionary.\n",
    "3. Calculate what the highest and lowest opening prices were for the stock in this period.\n",
    "4. What was the largest change in any one day (based on High and Low price)?\n",
    "5. What was the largest change between any two days (based on Closing Price)?\n",
    "6. What was the average daily trading volume during this year?\n",
    "7. (Optional) What was the median trading volume during this year. (Note: you may need to implement your own function for calculating the median.)"
   ]
  },
  {
   "cell_type": "code",
   "execution_count": 5,
   "metadata": {},
   "outputs": [
    {
     "data": {
      "text/plain": [
       "74472.0"
      ]
     },
     "execution_count": 5,
     "metadata": {},
     "output_type": "execute_result"
    }
   ],
   "source": [
    "data['Traded Volume'].median()"
   ]
  },
  {
   "cell_type": "code",
   "execution_count": 6,
   "metadata": {},
   "outputs": [
    {
     "data": {
      "text/plain": [
       "49.64"
      ]
     },
     "execution_count": 6,
     "metadata": {},
     "output_type": "execute_result"
    }
   ],
   "source": [
    "data['Open'].max()"
   ]
  },
  {
   "cell_type": "code",
   "execution_count": 7,
   "metadata": {},
   "outputs": [
    {
     "data": {
      "text/plain": [
       "34.0"
      ]
     },
     "execution_count": 7,
     "metadata": {},
     "output_type": "execute_result"
    }
   ],
   "source": [
    "data['Open'].min()"
   ]
  },
  {
   "cell_type": "code",
   "execution_count": 9,
   "metadata": {},
   "outputs": [
    {
     "data": {
      "text/plain": [
       "2.8100000000000023"
      ]
     },
     "execution_count": 9,
     "metadata": {},
     "output_type": "execute_result"
    }
   ],
   "source": [
    "data['High'].sub(data['Low'],axis=0).max()"
   ]
  },
  {
   "cell_type": "code",
   "execution_count": 10,
   "metadata": {},
   "outputs": [
    {
     "data": {
      "text/plain": [
       "Date\n",
       "2017-01-02    0.0\n",
       "2017-01-03    0.0\n",
       "2017-01-04    0.0\n",
       "2017-01-05    0.0\n",
       "2017-01-06    0.0\n",
       "             ... \n",
       "2017-11-27    0.0\n",
       "2017-11-28    0.0\n",
       "2017-11-29    0.0\n",
       "2017-11-30    0.0\n",
       "2017-12-01    0.0\n",
       "Name: Close, Length: 237, dtype: float64"
      ]
     },
     "execution_count": 10,
     "metadata": {},
     "output_type": "execute_result"
    }
   ],
   "source": [
    "data['Close'].sub(data['Close'],axis=0)"
   ]
  }
 ],
 "metadata": {
  "kernelspec": {
   "display_name": "Python 3",
   "language": "python",
   "name": "python3"
  },
  "language_info": {
   "codemirror_mode": {
    "name": "ipython",
    "version": 3
   },
   "file_extension": ".py",
   "mimetype": "text/x-python",
   "name": "python",
   "nbconvert_exporter": "python",
   "pygments_lexer": "ipython3",
   "version": "3.8.3"
  }
 },
 "nbformat": 4,
 "nbformat_minor": 2
}
